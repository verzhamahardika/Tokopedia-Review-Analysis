{
 "cells": [
  {
   "cell_type": "markdown",
   "id": "27c26161",
   "metadata": {},
   "source": [
    "# Tahapan untuk Scrapping Data di Google playstore pada ulasan aplikasi Tokopedia"
   ]
  },
  {
   "cell_type": "code",
   "execution_count": null,
   "id": "34262216",
   "metadata": {},
   "outputs": [],
   "source": [
    "# Mengimpor library google_play_scraper untuk mengakses ulasan dan informasi aplikasi dari Google Play Store.\n",
    "from google_play_scraper import app, reviews, Sort, reviews_all"
   ]
  },
  {
   "cell_type": "code",
   "execution_count": null,
   "id": "a5258842",
   "metadata": {},
   "outputs": [],
   "source": [
    "# Mengambil semua ulasan dari aplikasi dengan ID 'com.byu.id' di Google Play Store.\n",
    "scrapreview = reviews_all(\n",
    "    'com.tokopedia.tkpd',       # ID Aplikasi\n",
    "    lang='id',                  # Bahasa Ulasan (default: 'en)\n",
    "    country='id',               # Negara (default: 'us)\n",
    "    sort = Sort.MOST_RELEVANT,  # Urutan Ulasan (default: Sort.MOST_RELEVANT)\n",
    "    count = 20000               # Jumlah maksimum ulasan yang ingin diambil\n",
    ")"
   ]
  },
  {
   "cell_type": "code",
   "execution_count": null,
   "id": "348e9380",
   "metadata": {},
   "outputs": [],
   "source": [
    "#Menyimpan Ulasan dalam file CSV\n",
    "import csv\n",
    "\n",
    "with open('ulasan_aplikasi.csv', mode='w', newline='', encoding='utf-8') as file:\n",
    "    writer = csv.writer(file)\n",
    "    writer.writerow(['Review'])\n",
    "    for review in scrapreview:\n",
    "        writer.writerow([review['content']])"
   ]
  }
 ],
 "metadata": {
  "kernelspec": {
   "display_name": "verzha_new",
   "language": "python",
   "name": "python3"
  },
  "language_info": {
   "name": "python",
   "version": "3.12.9"
  }
 },
 "nbformat": 4,
 "nbformat_minor": 5
}
