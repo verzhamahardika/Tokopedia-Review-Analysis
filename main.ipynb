{
 "cells": [
  {
   "cell_type": "markdown",
   "id": "931e3e75",
   "metadata": {},
   "source": [
    "# Analysis Centiment Review Tokopedia"
   ]
  },
  {
   "cell_type": "code",
   "execution_count": 1,
   "id": "c45f01da",
   "metadata": {},
   "outputs": [],
   "source": [
    "import pandas as pd\n",
    "import numpy as np\n",
    "from ibm_watsonx_ai.foundation_models import ModelInference\n",
    "from ibm_watsonx_ai.metanames import GenTextParamsMetaNames as GenParams\n",
    "from ibm_cloud_sdk_core.authenticators import IAMAuthenticator\n",
    "import pandas as pd\n",
    "from ibm_watsonx_ai.credentials import Credentials\n",
    "import time\n",
    "from dotenv import load_dotenv\n",
    "import os"
   ]
  },
  {
   "cell_type": "code",
   "execution_count": 2,
   "id": "933f5816",
   "metadata": {},
   "outputs": [],
   "source": [
    "# --- IBM Credentials (ISI SESUAI PUNYAMU) ---\n",
    "load_dotenv()\n",
    "\n",
    "api_key = os.getenv(\"API_KEY\")\n",
    "project_id = os.getenv(\"PROJECT_ID\")\n",
    "region = os.getenv(\"REGION\")\n",
    "model_id = os.getenv(\"MODEL_ID\")"
   ]
  },
  {
   "cell_type": "code",
   "execution_count": 3,
   "id": "7513197b",
   "metadata": {},
   "outputs": [
    {
     "name": "stderr",
     "output_type": "stream",
     "text": [
      "c:\\Users\\TUF GAMING\\.conda\\envs\\verzha_new\\Lib\\site-packages\\ibm_watsonx_ai\\foundation_models\\utils\\utils.py:436: LifecycleWarning: Model 'ibm/granite-13b-instruct-v2' is in deprecated state from 2025-06-18 until 2025-10-15. IDs of alternative models: ibm/granite-3-3-8b-instruct. Further details: https://dataplatform.cloud.ibm.com/docs/content/wsj/analyze-data/fm-model-lifecycle.html?context=wx&audience=wdp\n",
      "  warn(model_state_warning, category=LifecycleWarning)\n"
     ]
    }
   ],
   "source": [
    "# --- Setup Credentials Object ---\n",
    "credentials = Credentials(\n",
    "    url=f\"https://{region}.ml.cloud.ibm.com\",\n",
    "    api_key=api_key\n",
    ")\n",
    "\n",
    "# Setup Inference\n",
    "inference = ModelInference(\n",
    "    model_id=model_id,\n",
    "    credentials=credentials,\n",
    "    project_id=project_id\n",
    ")"
   ]
  },
  {
   "cell_type": "code",
   "execution_count": 4,
   "id": "466bfb7a",
   "metadata": {},
   "outputs": [],
   "source": [
    "def classify_sentiment(text):\n",
    "    prompt = f\"\"\"\n",
    "Tolong klasifikasikan ulasan berikut ke dalam salah satu: Positif, Negatif, atau Netral.\n",
    "\n",
    "Ulasan:\n",
    "\"{text}\"\n",
    "\n",
    "Jawaban (hanya salah satu dari: Positif, Negatif, Netral):\n",
    "\"\"\"\n",
    "    params = {\n",
    "        \"max_tokens\": 20,\n",
    "        \"temperature\": 0.3\n",
    "    }\n",
    "    try:\n",
    "        response = inference.generate_text(prompt, params)\n",
    "\n",
    "        # Jika response adalah string langsung:\n",
    "        if isinstance(response, str):\n",
    "            return response.strip().split('\\n')[0]\n",
    "        \n",
    "        elif isinstance(response, dict) and 'results' in response:\n",
    "            return response['results'][0]['generated_text'].strip().split('\\n')[0]\n",
    "\n",
    "        else:\n",
    "            return f\"Unexpected response: {response}\"\n",
    "\n",
    "    except Exception as e:\n",
    "        return f\"Error: {e}\"\n"
   ]
  },
  {
   "cell_type": "code",
   "execution_count": 5,
   "id": "d6cc9e0e",
   "metadata": {},
   "outputs": [],
   "source": [
    "# Load data\n",
    "df = pd.read_csv('ulasan_aplikasi.csv')\n",
    "\n",
    "# Ambil kolom yang dibutuhkan\n",
    "df = df[['content', 'score']].dropna()\n",
    "\n",
    "# Buat label manual dari score\n",
    "def label_manual(score):\n",
    "    if score >= 4:\n",
    "        return 'Positif'\n",
    "    elif score == 3:\n",
    "        return 'Netral'\n",
    "    else:\n",
    "        return 'Negatif'\n",
    "\n",
    "df['label_manual'] = df['score'].apply(label_manual)"
   ]
  },
  {
   "cell_type": "code",
   "execution_count": 6,
   "id": "69659f66",
   "metadata": {},
   "outputs": [
    {
     "name": "stdout",
     "output_type": "stream",
     "text": [
      "                                                 content  score label_manual  \\\n",
      "41768  Jangan percaya aplikasi ini kalau ada diskon, ...      1      Negatif   \n",
      "26298  Sangat sangat membantu,, beli kelas pelatihan ...      5      Positif   \n",
      "67265  Aplikasi bodohhhh disusahin banget, mau buka t...      1      Negatif   \n",
      "23766  Aplikasinya berat, suka refresh sendiri,lagi m...      1      Negatif   \n",
      "47094  Oii.. Apaan sih. Bentar2 belanja auto cancel. ...      1      Negatif   \n",
      "28556  Aku pake app ini cm cek hrga, sbg saran kurir ...      3       Netral   \n",
      "39786               bagus banget.. banyain promo dong 😁😁      5      Positif   \n",
      "49325  👍😊 beli kursus online.. Sekali klik langsung l...      5      Positif   \n",
      "8420   keuntungan menggunakan Plus apa? hanya mendapa...      1      Negatif   \n",
      "36800  Mentang2 ongkir gratis, pengiriman jabodetabek...      1      Negatif   \n",
      "\n",
      "      label_granite  \n",
      "41768      Negative  \n",
      "26298        Netral  \n",
      "67265        Netral  \n",
      "23766        Netral  \n",
      "47094        Netral  \n",
      "28556        Netral  \n",
      "39786       POSITIF  \n",
      "49325        Netral  \n",
      "8420         Netral  \n",
      "36800        Netral  \n"
     ]
    }
   ],
   "source": [
    "sample_df = df.sample(10, random_state=42).copy()\n",
    "sample_df['label_granite'] = sample_df['content'].apply(lambda x: classify_sentiment(x))\n",
    "print(sample_df[['content', 'score', 'label_manual', 'label_granite']])\n"
   ]
  },
  {
   "cell_type": "code",
   "execution_count": 7,
   "id": "03f0a329",
   "metadata": {},
   "outputs": [
    {
     "name": "stdout",
     "output_type": "stream",
     "text": [
      "Hasil prediksi: Netral\n"
     ]
    }
   ],
   "source": [
    "result = classify_sentiment(\"Aplikasinya sangat lambat dan bikin kesel\")\n",
    "print(\"Hasil prediksi:\", result)"
   ]
  }
 ],
 "metadata": {
  "kernelspec": {
   "display_name": "verzha_new",
   "language": "python",
   "name": "python3"
  },
  "language_info": {
   "codemirror_mode": {
    "name": "ipython",
    "version": 3
   },
   "file_extension": ".py",
   "mimetype": "text/x-python",
   "name": "python",
   "nbconvert_exporter": "python",
   "pygments_lexer": "ipython3",
   "version": "3.12.9"
  }
 },
 "nbformat": 4,
 "nbformat_minor": 5
}
